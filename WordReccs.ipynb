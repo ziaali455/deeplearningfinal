{
 "cells": [
  {
   "cell_type": "code",
   "execution_count": 16,
   "id": "47538ea3",
   "metadata": {},
   "outputs": [
    {
     "name": "stderr",
     "output_type": "stream",
     "text": [
      "UsageError: Line magic function `%brew` not found.\n"
     ]
    }
   ],
   "source": [
    "%pip install nltk\n"
   ]
  },
  {
   "cell_type": "code",
   "execution_count": 25,
   "id": "76d53613",
   "metadata": {},
   "outputs": [
    {
     "name": "stderr",
     "output_type": "stream",
     "text": [
      "[nltk_data] Downloading package punkt to /Users/alizia/nltk_data...\n",
      "[nltk_data]   Package punkt is already up-to-date!\n",
      "[nltk_data] Downloading package brown to /Users/alizia/nltk_data...\n",
      "[nltk_data]   Unzipping corpora/brown.zip.\n"
     ]
    }
   ],
   "source": [
    "import nltk\n",
    "from nltk.util import ngrams\n",
    "from collections import Counter\n",
    "nltk.download('punkt')\n",
    "nltk.download('brown')\n",
    "from nltk.corpus import brown"
   ]
  },
  {
   "cell_type": "code",
   "execution_count": 37,
   "id": "21065948",
   "metadata": {},
   "outputs": [
    {
     "name": "stdout",
     "output_type": "stream",
     "text": [
      "Predicted next word: the\n"
     ]
    }
   ],
   "source": [
    "# Sample training text\n",
    "training_text = ' '.join(brown.words())\n",
    "tokens = nltk.word_tokenize(training_text)\n",
    "\n",
    "# Generate bigrams (n=2)\n",
    "n = 2\n",
    "bigrams = list(ngrams(tokens, n))\n",
    "\n",
    "# Count the frequency of each bigram\n",
    "bigram_freq = Counter(bigrams)\n",
    "\n",
    "# Function to predict the next word\n",
    "def predict_next_word(start_sentence):\n",
    "    words = nltk.word_tokenize(start_sentence)\n",
    "    last_word = words[-1]\n",
    "    \n",
    "    # Find possible completions\n",
    "    candidates = {pair[1]: freq for pair, freq in bigram_freq.items() if pair[0] == last_word}\n",
    "    \n",
    "    if candidates:\n",
    "        next_word = max(candidates, key=candidates.get)\n",
    "        print(f\"Predicted next word: {next_word}\")\n",
    "    else:\n",
    "        print(\"No prediction available for the given input.\")\n",
    "\n",
    "# Generate trigrams (n=3)\n",
    "n = 3\n",
    "trigrams = list(ngrams(tokens, n))\n",
    "trigram_freq = Counter(trigrams)\n",
    "\n",
    "\n",
    "# Example usage\n",
    "start_sentence = \"I am done talking to\"\n",
    "predict_next_word(start_sentence)"
   ]
  },
  {
   "cell_type": "code",
   "execution_count": null,
   "id": "7c89672d",
   "metadata": {},
   "outputs": [],
   "source": []
  }
 ],
 "metadata": {
  "kernelspec": {
   "display_name": "Python 3 (ipykernel)",
   "language": "python",
   "name": "python3"
  },
  "language_info": {
   "codemirror_mode": {
    "name": "ipython",
    "version": 3
   },
   "file_extension": ".py",
   "mimetype": "text/x-python",
   "name": "python",
   "nbconvert_exporter": "python",
   "pygments_lexer": "ipython3",
   "version": "3.11.5"
  }
 },
 "nbformat": 4,
 "nbformat_minor": 5
}
